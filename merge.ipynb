{
  "nbformat": 4,
  "nbformat_minor": 0,
  "metadata": {
    "colab": {
      "provenance": []
    },
    "kernelspec": {
      "name": "python3",
      "display_name": "Python 3"
    },
    "language_info": {
      "name": "python"
    }
  },
  "cells": [
    {
      "cell_type": "code",
      "execution_count": null,
      "metadata": {
        "id": "5zwSuTKd8OXW",
        "colab": {
          "base_uri": "https://localhost:8080/"
        },
        "outputId": "7c68a58b-f4c6-4302-da95-ad9decf04fcb"
      },
      "outputs": [
        {
          "output_type": "stream",
          "name": "stdout",
          "text": [
            "Files merged successfully into 'merged_file.csv'\n"
          ]
        }
      ],
      "source": [
        "import pandas as pd\n",
        "import glob\n",
        "\n",
        "file_path = \"*.csv\"\n",
        "csv_files = glob.glob(file_path)\n",
        "\n",
        "merged_df = pd.DataFrame()\n",
        "\n",
        "for file in csv_files:\n",
        "    df = pd.read_csv(file)\n",
        "    merged_df = pd.concat([merged_df, df], ignore_index=True)\n",
        "\n",
        "merged_df.to_csv(\"submission_6.csv\", index=False)\n",
        "\n",
        "print(\"Files merged successfully into 'merged_file.csv'\")"
      ]
    },
    {
      "cell_type": "code",
      "source": [],
      "metadata": {
        "id": "ogHkrwnH80ao"
      },
      "execution_count": null,
      "outputs": []
    }
  ]
}